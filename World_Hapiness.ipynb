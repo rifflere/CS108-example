{
  "nbformat": 4,
  "nbformat_minor": 0,
  "metadata": {
    "colab": {
      "provenance": [],
      "mount_file_id": "1m5aHbnSeZT0O-nDm-i4_DEj1nmUo72wZ",
      "authorship_tag": "ABX9TyNfWNMnGsk2kBEKGyxm88K9",
      "include_colab_link": true
    },
    "kernelspec": {
      "name": "python3",
      "display_name": "Python 3"
    },
    "language_info": {
      "name": "python"
    }
  },
  "cells": [
    {
      "cell_type": "markdown",
      "metadata": {
        "id": "view-in-github",
        "colab_type": "text"
      },
      "source": [
        "<a href=\"https://colab.research.google.com/github/rifflere/CS108-example/blob/main/World_Hapiness.ipynb\" target=\"_parent\"><img src=\"https://colab.research.google.com/assets/colab-badge.svg\" alt=\"Open In Colab\"/></a>"
      ]
    },
    {
      "cell_type": "markdown",
      "source": [
        "# World Happpiness\n",
        "Rebecca Riffle\n",
        "CS 108: Data Science"
      ],
      "metadata": {
        "id": "Dh74ocV0sGh_"
      }
    },
    {
      "cell_type": "markdown",
      "source": [
        "Intro\n",
        "This text...\n"
      ],
      "metadata": {
        "id": "vZJrh2RIsM26"
      }
    },
    {
      "cell_type": "markdown",
      "source": [
        "# Questions\n",
        "\n",
        "\n",
        "1.   According to most recent data, what country is the happiest?\n",
        "2.   Which is a better correlation with happiness - wealth or social connectivity?\n",
        "3. Is the world getting progressively more or less happy?\n",
        "4. Did countries with higher GDPs report more or less generosity than countries with lower GDPs?\n",
        "\n"
      ],
      "metadata": {
        "id": "9VIv-H5jtWaw"
      }
    },
    {
      "cell_type": "code",
      "source": [
        "%run \"/content/drive/MyDrive/Colab Notebooks/myFunctions.py\""
      ],
      "metadata": {
        "id": "IVoDnnTwgAjE"
      },
      "execution_count": null,
      "outputs": []
    },
    {
      "cell_type": "code",
      "execution_count": null,
      "metadata": {
        "colab": {
          "base_uri": "https://localhost:8080/",
          "height": 589
        },
        "id": "PoLk_E-MKXFz",
        "outputId": "a4ab1c79-cc74-4aca-f791-5e60efeb4cd9"
      },
      "outputs": [
        {
          "metadata": {
            "tags": null
          },
          "name": "stdout",
          "output_type": "stream",
          "text": [
            ":) :) :) :) :) :) :) \n",
            "World Happiness Report\n",
            "----------------------\n",
            "The World Hapiness Report is an annual report that examines self-reported levels of happiness around the world, as well as data about other social factors.\n",
            "Enter a number corresponding with one of the below questions to explore this data.\n",
            "1. \n",
            "2. \n",
            "3. \n",
            "4. \n",
            "\n"
          ]
        },
        {
          "output_type": "error",
          "ename": "KeyboardInterrupt",
          "evalue": "Interrupted by user",
          "traceback": [
            "\u001b[0;31m---------------------------------------------------------------------------\u001b[0m",
            "\u001b[0;31mKeyboardInterrupt\u001b[0m                         Traceback (most recent call last)",
            "\u001b[0;32m<ipython-input-20-59d41456c2f0>\u001b[0m in \u001b[0;36m<cell line: 12>\u001b[0;34m()\u001b[0m\n\u001b[1;32m     10\u001b[0m \u001b[0mprintIntro\u001b[0m\u001b[0;34m(\u001b[0m\u001b[0;34m)\u001b[0m\u001b[0;34m\u001b[0m\u001b[0;34m\u001b[0m\u001b[0m\n\u001b[1;32m     11\u001b[0m \u001b[0;34m\u001b[0m\u001b[0m\n\u001b[0;32m---> 12\u001b[0;31m \u001b[0mquestionNumber\u001b[0m \u001b[0;34m=\u001b[0m \u001b[0mgetInput\u001b[0m\u001b[0;34m(\u001b[0m\u001b[0;34m)\u001b[0m\u001b[0;34m\u001b[0m\u001b[0;34m\u001b[0m\u001b[0m\n\u001b[0m\u001b[1;32m     13\u001b[0m \u001b[0;34m\u001b[0m\u001b[0m\n\u001b[1;32m     14\u001b[0m \u001b[0;31m# Which of these identified factors most closely correlates to happiness?\u001b[0m\u001b[0;34m\u001b[0m\u001b[0;34m\u001b[0m\u001b[0m\n",
            "\u001b[0;32m/content/drive/MyDrive/Colab Notebooks/myFunctions.py\u001b[0m in \u001b[0;36mgetInput\u001b[0;34m()\u001b[0m\n\u001b[1;32m     23\u001b[0m     \u001b[0;32mwhile\u001b[0m \u001b[0;32mTrue\u001b[0m\u001b[0;34m:\u001b[0m\u001b[0;34m\u001b[0m\u001b[0;34m\u001b[0m\u001b[0m\n\u001b[1;32m     24\u001b[0m         \u001b[0mquestionNumber\u001b[0m \u001b[0;34m=\u001b[0m \u001b[0minput\u001b[0m\u001b[0;34m(\u001b[0m\u001b[0;34m\"Select a question (1-4): \"\u001b[0m\u001b[0;34m)\u001b[0m\u001b[0;34m\u001b[0m\u001b[0;34m\u001b[0m\u001b[0m\n\u001b[0;32m---> 25\u001b[0;31m         \u001b[0;32mif\u001b[0m \u001b[0mquestionNumber\u001b[0m \u001b[0;34m==\u001b[0m \u001b[0;34m\"\"\u001b[0m\u001b[0;34m:\u001b[0m\u001b[0;34m\u001b[0m\u001b[0;34m\u001b[0m\u001b[0m\n\u001b[0m\u001b[1;32m     26\u001b[0m             \u001b[0mprint\u001b[0m\u001b[0;34m(\u001b[0m\u001b[0;34m)\u001b[0m\u001b[0;34m\u001b[0m\u001b[0;34m\u001b[0m\u001b[0m\n\u001b[1;32m     27\u001b[0m         \u001b[0;32melif\u001b[0m \u001b[0;32mnot\u001b[0m \u001b[0mquestionNumber\u001b[0m\u001b[0;34m.\u001b[0m\u001b[0misnumeric\u001b[0m\u001b[0;34m(\u001b[0m\u001b[0;34m)\u001b[0m\u001b[0;34m:\u001b[0m\u001b[0;34m\u001b[0m\u001b[0;34m\u001b[0m\u001b[0m\n",
            "\u001b[0;32m/usr/local/lib/python3.10/dist-packages/ipykernel/kernelbase.py\u001b[0m in \u001b[0;36mraw_input\u001b[0;34m(self, prompt)\u001b[0m\n\u001b[1;32m    849\u001b[0m                 \u001b[0;34m\"raw_input was called, but this frontend does not support input requests.\"\u001b[0m\u001b[0;34m\u001b[0m\u001b[0;34m\u001b[0m\u001b[0m\n\u001b[1;32m    850\u001b[0m             )\n\u001b[0;32m--> 851\u001b[0;31m         return self._input_request(str(prompt),\n\u001b[0m\u001b[1;32m    852\u001b[0m             \u001b[0mself\u001b[0m\u001b[0;34m.\u001b[0m\u001b[0m_parent_ident\u001b[0m\u001b[0;34m,\u001b[0m\u001b[0;34m\u001b[0m\u001b[0;34m\u001b[0m\u001b[0m\n\u001b[1;32m    853\u001b[0m             \u001b[0mself\u001b[0m\u001b[0;34m.\u001b[0m\u001b[0m_parent_header\u001b[0m\u001b[0;34m,\u001b[0m\u001b[0;34m\u001b[0m\u001b[0;34m\u001b[0m\u001b[0m\n",
            "\u001b[0;32m/usr/local/lib/python3.10/dist-packages/ipykernel/kernelbase.py\u001b[0m in \u001b[0;36m_input_request\u001b[0;34m(self, prompt, ident, parent, password)\u001b[0m\n\u001b[1;32m    893\u001b[0m             \u001b[0;32mexcept\u001b[0m \u001b[0mKeyboardInterrupt\u001b[0m\u001b[0;34m:\u001b[0m\u001b[0;34m\u001b[0m\u001b[0;34m\u001b[0m\u001b[0m\n\u001b[1;32m    894\u001b[0m                 \u001b[0;31m# re-raise KeyboardInterrupt, to truncate traceback\u001b[0m\u001b[0;34m\u001b[0m\u001b[0;34m\u001b[0m\u001b[0m\n\u001b[0;32m--> 895\u001b[0;31m                 \u001b[0;32mraise\u001b[0m \u001b[0mKeyboardInterrupt\u001b[0m\u001b[0;34m(\u001b[0m\u001b[0;34m\"Interrupted by user\"\u001b[0m\u001b[0;34m)\u001b[0m \u001b[0;32mfrom\u001b[0m \u001b[0;32mNone\u001b[0m\u001b[0;34m\u001b[0m\u001b[0;34m\u001b[0m\u001b[0m\n\u001b[0m\u001b[1;32m    896\u001b[0m             \u001b[0;32mexcept\u001b[0m \u001b[0mException\u001b[0m \u001b[0;32mas\u001b[0m \u001b[0me\u001b[0m\u001b[0;34m:\u001b[0m\u001b[0;34m\u001b[0m\u001b[0;34m\u001b[0m\u001b[0m\n\u001b[1;32m    897\u001b[0m                 \u001b[0mself\u001b[0m\u001b[0;34m.\u001b[0m\u001b[0mlog\u001b[0m\u001b[0;34m.\u001b[0m\u001b[0mwarning\u001b[0m\u001b[0;34m(\u001b[0m\u001b[0;34m\"Invalid Message:\"\u001b[0m\u001b[0;34m,\u001b[0m \u001b[0mexc_info\u001b[0m\u001b[0;34m=\u001b[0m\u001b[0;32mTrue\u001b[0m\u001b[0;34m)\u001b[0m\u001b[0;34m\u001b[0m\u001b[0;34m\u001b[0m\u001b[0m\n",
            "\u001b[0;31mKeyboardInterrupt\u001b[0m: Interrupted by user"
          ]
        }
      ],
      "source": [
        "#Import libraries\n",
        "from re import escape\n",
        "import matplotlib.pyplot as plt\n",
        "\n",
        "\n",
        "'''\n",
        "Author: Rebecca Riffle\n",
        "Date: 10/28/2024\n",
        "'''\n",
        "\n",
        "# Display title\n",
        "print(\":) \" * 7)\n",
        "printTitle(\"World Happiness Report\")\n",
        "printIntro()\n",
        "\n",
        "questionNumber = getInput()\n",
        "\n",
        "# Which of these identified factors most closely correlates to happiness?\n",
        "# Are wealthier countries happier?\n",
        "# Is the world getting progressively more or less happy overall?\n",
        "\n",
        "\n",
        "# Prompt user for input here\n",
        "inputyear = int(input(\"Enter a year between 2007 and 2023: \"))\n",
        "# Validate input\n",
        "\n",
        "# Open and read datafile\n",
        "textFile = open(\"/content/drive/MyDrive/Colab Notebooks/World Hapiness Report/dataCSV.csv\", encoding=\"utf-8\")\n",
        "dataRows = textFile.readlines()[1:]\n",
        "\n",
        "print(\"The Life Ladder is a representation life of 0-10, where 0 is the worst possible life, and 10 is the best.\")\n",
        "\n",
        "# Process each row\n",
        "for row in dataRows:\n",
        "\n",
        "    # Prepare and store data\n",
        "    row = row.strip()\n",
        "    values = row.split(\",\")\n",
        "\n",
        "    # # CHOOSE WHICH ONES ARE RELEVANT TO KEEP\n",
        "    country = values[0]\n",
        "    year = values[1]\n",
        "    lifeLadder = values[2]\n",
        "    gDP = values[3]\n",
        "    socialSupport = values[4]\n",
        "    lifeExpectancy = values[5]\n",
        "    Freedom = values[6]\n",
        "    Generosity = values[7]\n",
        "    corruption = values[8]\n",
        "    positiveAffect = values[9]\n",
        "    negativeAffect = values[10]\n",
        "\n",
        "    # Convert numbers\n",
        "    year = int(year)\n",
        "    lifeLadder = float(lifeLadder)\n",
        "    # socialSupport = float(socialSupport)\n",
        "    # lifeExpectancy = float(lifeExpectancy)\n",
        "    # Freedom = float(Freedom)\n",
        "    # Generosity = float(Generosity)\n",
        "    # corruption = float(corruption)\n",
        "\n",
        "    # Add emoji to lifeladder\n",
        "    if lifeLadder >= 8:\n",
        "        lifeLadderEmoji = \":D !\"\n",
        "    elif lifeLadder >= 6:\n",
        "        lifeLadderEmoji = \":)\"\n",
        "    elif lifeLadder >= 4:\n",
        "        lifeLadderEmoji = \":|\"\n",
        "    elif lifeLadder >= 2:\n",
        "        lifeLadderEmoji = \":(\"\n",
        "    else:\n",
        "        lifeLadderEmoji = \"\"\n",
        "\n",
        "    # Add dollar signs to GDP\n",
        "    if gDP != \"\":\n",
        "            gDP = float(gDP)\n",
        "            if gDP >= 10.5:\n",
        "                gDPDollars = \"$$$$\"\n",
        "            elif gDP >= 8:\n",
        "                gDPDollars = \"$$$\"\n",
        "            elif gDP >= 6:\n",
        "                gDPDollars = \"$$\"\n",
        "            elif gDP >= 3:\n",
        "                gDPDollars = \"$\"\n",
        "            else:\n",
        "                gDPDollars = \"\"\n",
        "    else:\n",
        "        gDP = \"Unknown\"\n",
        "        gDPDollars = \"\"\n",
        "\n",
        "    # Condition\n",
        "    if inputyear == year:\n",
        "\n",
        "        # Display data\n",
        "        print(\"Country:\",country)\n",
        "        print(\"Year:\",year)\n",
        "        print(\"Life Ladder (0 - 10):\",lifeLadder,lifeLadderEmoji)\n",
        "        print(\"GDP Per Capita (international dollars):\",gDP,gDPDollars)\n",
        "        print(\"Social Support:\",socialSupport)\n",
        "        print(\"Life Expectancy:\",lifeExpectancy)\n",
        "        print(\"Freedom:\",Freedom)\n",
        "        print(\"Generosity:\",Generosity)\n",
        "        print(\"Corruption:\",corruption)\n",
        "        print()"
      ]
    },
    {
      "cell_type": "markdown",
      "source": [
        "#Question 1"
      ],
      "metadata": {
        "id": "A_-f8p0ytdQ_"
      }
    },
    {
      "cell_type": "markdown",
      "source": [
        "#Question 2"
      ],
      "metadata": {
        "id": "8_R1SxuBti_H"
      }
    },
    {
      "cell_type": "markdown",
      "source": [
        "#Question 3"
      ],
      "metadata": {
        "id": "ozdAz4JytjKD"
      }
    },
    {
      "cell_type": "markdown",
      "source": [
        "# Conclusion\n",
        "Reflection"
      ],
      "metadata": {
        "id": "8rfAb26GsCo3"
      }
    }
  ]
}